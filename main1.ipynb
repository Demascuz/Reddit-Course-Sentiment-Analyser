{
 "cells": [
  {
   "cell_type": "markdown",
   "metadata": {},
   "source": [
    "Imports"
   ]
  },
  {
   "cell_type": "code",
   "execution_count": 16,
   "metadata": {},
   "outputs": [
    {
     "name": "stderr",
     "output_type": "stream",
     "text": [
      "[nltk_data] Error loading vader_lexicon: <urlopen error [SSL:\n",
      "[nltk_data]     CERTIFICATE_VERIFY_FAILED] certificate verify failed:\n",
      "[nltk_data]     unable to get local issuer certificate (_ssl.c:997)>\n",
      "[nltk_data] Error loading punkt: <urlopen error [SSL:\n",
      "[nltk_data]     CERTIFICATE_VERIFY_FAILED] certificate verify failed:\n",
      "[nltk_data]     unable to get local issuer certificate (_ssl.c:997)>\n",
      "[nltk_data] Error loading stopwords: <urlopen error [SSL:\n",
      "[nltk_data]     CERTIFICATE_VERIFY_FAILED] certificate verify failed:\n",
      "[nltk_data]     unable to get local issuer certificate (_ssl.c:997)>\n"
     ]
    }
   ],
   "source": [
    "import pandas as pd\n",
    "import numpy as np\n",
    "\n",
    "# misc\n",
    "import datetime as dt\n",
    "from pprint import pprint\n",
    "from itertools import chain\n",
    "\n",
    "# reddit crawler\n",
    "import praw\n",
    "\n",
    "# sentiment analysis\n",
    "import nltk\n",
    "from nltk.sentiment.vader import SentimentIntensityAnalyzer\n",
    "from nltk.tokenize import word_tokenize, RegexpTokenizer # tokenize words\n",
    "from nltk.corpus import stopwords\n",
    "\n",
    "import nltk\n",
    "import ssl\n",
    "\n",
    "nltk.download('vader_lexicon') # get lexicons data\n",
    "nltk.download('punkt') # for tokenizer\n",
    "nltk.download('stopwords')\n",
    "\n",
    "r = praw.Reddit(user_agent='DemApollus',\n",
    "                client_id='KrnUePjuO_J50XuOWNIyRw',\n",
    "                client_secret='OswzYFW1nBcQWSfZPQVHmOXRglUcvw',\n",
    "                check_for_async=False)"
   ]
  },
  {
   "cell_type": "code",
   "execution_count": 17,
   "metadata": {},
   "outputs": [
    {
     "name": "stdout",
     "output_type": "stream",
     "text": [
      "{'neg': 0.316, 'neu': 0.466, 'pos': 0.218, 'compound': -0.396}\n",
      "{'neg': 0.0, 'neu': 0.281, 'pos': 0.719, 'compound': 0.729}\n",
      "{'neg': 0.636, 'neu': 0.364, 'pos': 0.0, 'compound': -0.5423}\n"
     ]
    }
   ],
   "source": [
    "sid = SentimentIntensityAnalyzer()\n",
    "\n",
    "pos_text = \"please take this class if u dont want to miss out on death!\"\n",
    "cap_pos_text = \"Vader is AWESOME!\" # captilization and ! increases the effect\n",
    "neg_text = \"Vader is bad\"\n",
    "\n",
    "print(sid.polarity_scores(pos_text))\n",
    "print(sid.polarity_scores(cap_pos_text))\n",
    "print(sid.polarity_scores(neg_text))"
   ]
  },
  {
   "cell_type": "code",
   "execution_count": 18,
   "metadata": {},
   "outputs": [
    {
     "name": "stdout",
     "output_type": "stream",
     "text": [
      "https://www.reddit.com/r/UBC/comments/ubreai/cpsc_121_final/\n"
     ]
    }
   ],
   "source": [
    "ubc_reddit = r.subreddit(\"UBC\")\n",
    "titles = list(())\n",
    "urls = list(())\n",
    "comments = list(())\n",
    "for post in ubc_reddit.search(\"CPSC 121\", limit=2):\n",
    "    titles.append(post.title)\n",
    "    urls.append(post.url)\n",
    "    submission = r.submission(id=post.id)\n",
    "    for comment in submission.comments.list():\n",
    "        #print(post.title)\n",
    "        comments.append(comment.body)\n",
    "print(urls[0])"
   ]
  },
  {
   "cell_type": "code",
   "execution_count": 19,
   "metadata": {},
   "outputs": [
    {
     "data": {
      "text/html": [
       "<div>\n",
       "<style scoped>\n",
       "    .dataframe tbody tr th:only-of-type {\n",
       "        vertical-align: middle;\n",
       "    }\n",
       "\n",
       "    .dataframe tbody tr th {\n",
       "        vertical-align: top;\n",
       "    }\n",
       "\n",
       "    .dataframe thead th {\n",
       "        text-align: right;\n",
       "    }\n",
       "</style>\n",
       "<table border=\"1\" class=\"dataframe\">\n",
       "  <thead>\n",
       "    <tr style=\"text-align: right;\">\n",
       "      <th></th>\n",
       "      <th>0</th>\n",
       "    </tr>\n",
       "  </thead>\n",
       "  <tbody>\n",
       "    <tr>\n",
       "      <th>0</th>\n",
       "      <td>I totally failed because I didn’t study the ri...</td>\n",
       "    </tr>\n",
       "    <tr>\n",
       "      <th>1</th>\n",
       "      <td>I would cry but it’s my last final so I’m not ...</td>\n",
       "    </tr>\n",
       "    <tr>\n",
       "      <th>2</th>\n",
       "      <td>I'll see you all in the summer</td>\n",
       "    </tr>\n",
       "    <tr>\n",
       "      <th>3</th>\n",
       "      <td>I’m a SD student from last term and well, look...</td>\n",
       "    </tr>\n",
       "    <tr>\n",
       "      <th>4</th>\n",
       "      <td>Does anyone who took it before know if there w...</td>\n",
       "    </tr>\n",
       "    <tr>\n",
       "      <th>...</th>\n",
       "      <td>...</td>\n",
       "    </tr>\n",
       "    <tr>\n",
       "      <th>86</th>\n",
       "      <td>I wouldn't look to Japan of all places for imp...</td>\n",
       "    </tr>\n",
       "    <tr>\n",
       "      <th>87</th>\n",
       "      <td>Japan has its own problems. Do some research o...</td>\n",
       "    </tr>\n",
       "    <tr>\n",
       "      <th>88</th>\n",
       "      <td>That sounds about right, I have a buddy at Bla...</td>\n",
       "    </tr>\n",
       "    <tr>\n",
       "      <th>89</th>\n",
       "      <td>Lmao so true, i wished id knew about this befo...</td>\n",
       "    </tr>\n",
       "    <tr>\n",
       "      <th>90</th>\n",
       "      <td>Lmao there is always a but to Sauder grads mak...</td>\n",
       "    </tr>\n",
       "  </tbody>\n",
       "</table>\n",
       "<p>91 rows × 1 columns</p>\n",
       "</div>"
      ],
      "text/plain": [
       "                                                    0\n",
       "0   I totally failed because I didn’t study the ri...\n",
       "1   I would cry but it’s my last final so I’m not ...\n",
       "2                      I'll see you all in the summer\n",
       "3   I’m a SD student from last term and well, look...\n",
       "4   Does anyone who took it before know if there w...\n",
       "..                                                ...\n",
       "86  I wouldn't look to Japan of all places for imp...\n",
       "87  Japan has its own problems. Do some research o...\n",
       "88  That sounds about right, I have a buddy at Bla...\n",
       "89  Lmao so true, i wished id knew about this befo...\n",
       "90  Lmao there is always a but to Sauder grads mak...\n",
       "\n",
       "[91 rows x 1 columns]"
      ]
     },
     "execution_count": 19,
     "metadata": {},
     "output_type": "execute_result"
    }
   ],
   "source": [
    "df = pd.DataFrame(comments)\n",
    "df"
   ]
  }
 ],
 "metadata": {
  "interpreter": {
   "hash": "aee8b7b246df8f9039afb4144a1f6fd8d2ca17a180786b69acc140d282b71a49"
  },
  "kernelspec": {
   "display_name": "Python 3.10.4 64-bit",
   "language": "python",
   "name": "python3"
  },
  "language_info": {
   "codemirror_mode": {
    "name": "ipython",
    "version": 3
   },
   "file_extension": ".py",
   "mimetype": "text/x-python",
   "name": "python",
   "nbconvert_exporter": "python",
   "pygments_lexer": "ipython3",
   "version": "3.10.4"
  },
  "orig_nbformat": 4
 },
 "nbformat": 4,
 "nbformat_minor": 2
}
