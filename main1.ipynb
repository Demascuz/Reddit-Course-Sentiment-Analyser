{
 "cells": [
  {
   "cell_type": "markdown",
   "metadata": {},
   "source": [
    "Imports"
   ]
  },
  {
   "cell_type": "code",
   "execution_count": 3,
   "metadata": {},
   "outputs": [],
   "source": [
    "import pandas as pd\n",
    "import numpy as np\n",
    "\n",
    "# misc\n",
    "import datetime as dt\n",
    "from pprint import pprint\n",
    "from itertools import chain\n",
    "\n",
    "# reddit crawler\n",
    "import praw\n",
    "\n",
    "# sentiment analysis\n",
    "import nltk\n",
    "from nltk.sentiment.vader import SentimentIntensityAnalyzer\n",
    "from nltk.tokenize import word_tokenize, RegexpTokenizer # tokenize words\n",
    "from nltk.corpus import stopwords"
   ]
  },
  {
   "cell_type": "code",
   "execution_count": 8,
   "metadata": {},
   "outputs": [
    {
     "name": "stdout",
     "output_type": "stream",
     "text": [
      "20\n",
      "                                               title\n",
      "0  Anonymous takes down Kremlin, Russian-controll...\n",
      "1  Amazon VP Resigns, Calls Company ‘Chickenshit’...\n",
      "2  'Jack Dorsey's First Tweet' NFT Went on Sale f...\n",
      "3  Ukraine government raises over $10 million in ...\n",
      "4  Anonymous Hackers Claim Responsibility for Rus...\n",
      "Full run thru: Yes\n"
     ]
    }
   ],
   "source": [
    "r = praw.Reddit(user_agent='DemApollus',\n",
    "                client_id='KrnUePjuO_J50XuOWNIyRw',\n",
    "                client_secret='OswzYFW1nBcQWSfZPQVHmOXRglUcvw',\n",
    "                check_for_async=False)\n",
    "\n",
    "subreddit = r.subreddit('technews')\n",
    "\n",
    "news = [*subreddit.top(limit=20)] # first 20 posts only\n",
    "\n",
    "print(len(news))\n",
    "\n",
    "# create lists of the information from each news\n",
    "title = [news.title for news in news]\n",
    "news1 = pd.DataFrame({\n",
    "    \"title\": title,\n",
    "})\n",
    "print(news1.head())\n",
    "\n",
    "print(\"Full run thru: Yes\")"
   ]
  }
 ],
 "metadata": {
  "interpreter": {
   "hash": "aee8b7b246df8f9039afb4144a1f6fd8d2ca17a180786b69acc140d282b71a49"
  },
  "kernelspec": {
   "display_name": "Python 3.10.4 64-bit",
   "language": "python",
   "name": "python3"
  },
  "language_info": {
   "codemirror_mode": {
    "name": "ipython",
    "version": 3
   },
   "file_extension": ".py",
   "mimetype": "text/x-python",
   "name": "python",
   "nbconvert_exporter": "python",
   "pygments_lexer": "ipython3",
   "version": "3.10.4"
  },
  "orig_nbformat": 4
 },
 "nbformat": 4,
 "nbformat_minor": 2
}
