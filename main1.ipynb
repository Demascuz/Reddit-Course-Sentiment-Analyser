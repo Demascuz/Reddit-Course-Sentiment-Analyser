{
 "cells": [
  {
   "cell_type": "code",
   "execution_count": null,
   "metadata": {},
   "outputs": [],
   "source": [
    "pip install transformers "
   ]
  },
  {
   "cell_type": "code",
   "execution_count": null,
   "metadata": {},
   "outputs": [],
   "source": [
    "import pandas as pd\n",
    "import numpy as np\n",
    "\n",
    "# reddit crawler\n",
    "import praw\n",
    "\n",
    "#BERT sentiment analysis\n",
    "from transformers import AutoTokenizer, AutoModelForSequenceClassification\n",
    "import torch\n",
    "\n",
    "tokenizer = AutoTokenizer.from_pretrained('nlptown/bert-base-multilingual-uncased-sentiment')\n",
    "model = AutoModelForSequenceClassification.from_pretrained('nlptown/bert-base-multilingual-uncased-sentiment')\n",
    "\n",
    "r = praw.Reddit(user_agent='...',\n",
    "                client_id='...',\n",
    "                client_secret='...',\n",
    "                check_for_async=False)"
   ]
  },
  {
   "cell_type": "code",
   "execution_count": null,
   "metadata": {},
   "outputs": [],
   "source": [
    "#Search any UBC course \n",
    "course_code = \"CPSC 121\"\n",
    "#Number of posts to be scanned, the larger the better, but time consuming aswell. Max limit at 999\n",
    "QueryLimit = 10"
   ]
  },
  {
   "cell_type": "code",
   "execution_count": null,
   "metadata": {},
   "outputs": [],
   "source": [
    "ubc_reddit = r.subreddit(\"UBC\")\n",
    "titles = list(())\n",
    "urls = list(())\n",
    "comments = list(())\n",
    "for post in ubc_reddit.search(course_code, limit=QueryLimit):\n",
    "    titles.append(post.title)\n",
    "    urls.append(post.url)\n",
    "    submission = r.submission(id=post.id)\n",
    "    if (post.link_flair_text != \"Humour\"):\n",
    "        for top_level_comment in submission.comments:\n",
    "            comm = top_level_comment.body\n",
    "            if (len(comm) > 10 and len(comm) < 150):\n",
    "                comments.append(comm)\n",
    "    "
   ]
  },
  {
   "cell_type": "code",
   "execution_count": null,
   "metadata": {},
   "outputs": [],
   "source": [
    "#perform sentiment analysis using BERT\n",
    "BSA_comments = list(())\n",
    "SumOfBR = 0\n",
    "for i in comments:\n",
    "    tokens = tokenizer.encode(i, return_tensors='pt')\n",
    "    result = model(tokens)\n",
    "    rank = int(torch.argmax(result.logits))+1\n",
    "    BSA_comments.append(rank)\n",
    "    SumOfBR += rank\n",
    "\n"
   ]
  },
  {
   "cell_type": "code",
   "execution_count": null,
   "metadata": {},
   "outputs": [],
   "source": [
    "#Convert to CSV file to view each specific comment and it's BERT SA rating\n",
    "df = pd.DataFrame({\"Comments\": comments, \"BERT Ranking\": BSA_comments})\n",
    "df.to_csv(course_code + \".csv\")"
   ]
  },
  {
   "cell_type": "code",
   "execution_count": null,
   "metadata": {},
   "outputs": [],
   "source": [
    "#Calulate the average BERT rating of the course based on comments\n",
    " \n",
    "final_bavg = SumOfBR / len(BSA_comments)\n",
    "\n",
    "print(final_bavg)\n"
   ]
  }
 ],
 "metadata": {
  "interpreter": {
   "hash": "aee8b7b246df8f9039afb4144a1f6fd8d2ca17a180786b69acc140d282b71a49"
  },
  "kernelspec": {
   "display_name": "Python 3.10.4 64-bit",
   "language": "python",
   "name": "python3"
  },
  "language_info": {
   "codemirror_mode": {
    "name": "ipython",
    "version": 3
   },
   "file_extension": ".py",
   "mimetype": "text/x-python",
   "name": "python",
   "nbconvert_exporter": "python",
   "pygments_lexer": "ipython3",
   "version": "3.10.4"
  },
  "orig_nbformat": 4
 },
 "nbformat": 4,
 "nbformat_minor": 2
}
