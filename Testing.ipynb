{
 "cells": [
  {
   "cell_type": "code",
   "execution_count": 5,
   "metadata": {},
   "outputs": [],
   "source": [
    "import pandas as pd\n",
    "import numpy as np\n",
    "\n",
    "# misc\n",
    "import datetime as dt\n",
    "from pprint import pprint\n",
    "from itertools import chain\n",
    "\n",
    "#pushshift api\n",
    "import praw \n",
    "from pmaw import PushshiftAPI\n",
    "\n",
    "r = praw.Reddit(user_agent='DemApollus',\n",
    "                client_id='KrnUePjuO_J50XuOWNIyRw',\n",
    "                client_secret='OswzYFW1nBcQWSfZPQVHmOXRglUcvw',\n",
    "                check_for_async=False)\n",
    "\n",
    "api = PushshiftAPI()\n",
    "\n",
    "# sentiment analysis\n",
    "# import nltk\n",
    "# from nltk.sentiment.vader import SentimentIntensityAnalyzer\n",
    "# from nltk.tokenize import word_tokenize, RegexpTokenizer # tokenize words\n",
    "# from nltk.corpus import stopwords\n",
    "\n",
    "# import nltk\n",
    "# import ssl\n",
    "\n",
    "# nltk.download('vader_lexicon') # get lexicons data\n",
    "# nltk.download('punkt') # for tokenizer\n",
    "# nltk.download('stopwords')"
   ]
  },
  {
   "cell_type": "code",
   "execution_count": 6,
   "metadata": {},
   "outputs": [
    {
     "name": "stdout",
     "output_type": "stream",
     "text": [
      "Retrieved 100 comments from Pushshift\n"
     ]
    }
   ],
   "source": [
    "import datetime as dt\n",
    "before = int(dt.datetime(2021,2,1,0,0).timestamp())\n",
    "after = int(dt.datetime(2020,12,1,0,0).timestamp())\n",
    "\n",
    "subreddit=\"UBC\"\n",
    "limit=100\n",
    "comments = api.search_comments(subreddit=subreddit, limit=limit, before=before, after=after)\n",
    "print(f'Retrieved {len(comments)} comments from Pushshift')"
   ]
  },
  {
   "cell_type": "code",
   "execution_count": 7,
   "metadata": {},
   "outputs": [
    {
     "data": {
      "text/html": [
       "<div>\n",
       "<style scoped>\n",
       "    .dataframe tbody tr th:only-of-type {\n",
       "        vertical-align: middle;\n",
       "    }\n",
       "\n",
       "    .dataframe tbody tr th {\n",
       "        vertical-align: top;\n",
       "    }\n",
       "\n",
       "    .dataframe thead th {\n",
       "        text-align: right;\n",
       "    }\n",
       "</style>\n",
       "<table border=\"1\" class=\"dataframe\">\n",
       "  <thead>\n",
       "    <tr style=\"text-align: right;\">\n",
       "      <th></th>\n",
       "      <th>all_awardings</th>\n",
       "      <th>associated_award</th>\n",
       "      <th>author</th>\n",
       "      <th>author_flair_background_color</th>\n",
       "      <th>author_flair_css_class</th>\n",
       "      <th>author_flair_richtext</th>\n",
       "      <th>author_flair_template_id</th>\n",
       "      <th>author_flair_text</th>\n",
       "      <th>author_flair_text_color</th>\n",
       "      <th>author_flair_type</th>\n",
       "      <th>...</th>\n",
       "      <th>retrieved_on</th>\n",
       "      <th>score</th>\n",
       "      <th>send_replies</th>\n",
       "      <th>stickied</th>\n",
       "      <th>subreddit</th>\n",
       "      <th>subreddit_id</th>\n",
       "      <th>top_awarded_type</th>\n",
       "      <th>total_awards_received</th>\n",
       "      <th>treatment_tags</th>\n",
       "      <th>distinguished</th>\n",
       "    </tr>\n",
       "  </thead>\n",
       "  <tbody>\n",
       "    <tr>\n",
       "      <th>0</th>\n",
       "      <td>[]</td>\n",
       "      <td>None</td>\n",
       "      <td>Cygnoidex</td>\n",
       "      <td>None</td>\n",
       "      <td>None</td>\n",
       "      <td>[]</td>\n",
       "      <td>None</td>\n",
       "      <td>None</td>\n",
       "      <td>None</td>\n",
       "      <td>text</td>\n",
       "      <td>...</td>\n",
       "      <td>1608434367</td>\n",
       "      <td>1</td>\n",
       "      <td>True</td>\n",
       "      <td>False</td>\n",
       "      <td>UBC</td>\n",
       "      <td>t5_2qy2j</td>\n",
       "      <td>None</td>\n",
       "      <td>0</td>\n",
       "      <td>[]</td>\n",
       "      <td>NaN</td>\n",
       "    </tr>\n",
       "    <tr>\n",
       "      <th>1</th>\n",
       "      <td>[]</td>\n",
       "      <td>None</td>\n",
       "      <td>HariNapkin</td>\n",
       "      <td>#b20e22</td>\n",
       "      <td>Engineering</td>\n",
       "      <td>[]</td>\n",
       "      <td>7be2b592-1b46-11e7-a702-0e84ae326624</td>\n",
       "      <td>Electrical Engineering</td>\n",
       "      <td>light</td>\n",
       "      <td>text</td>\n",
       "      <td>...</td>\n",
       "      <td>1608434212</td>\n",
       "      <td>9</td>\n",
       "      <td>True</td>\n",
       "      <td>False</td>\n",
       "      <td>UBC</td>\n",
       "      <td>t5_2qy2j</td>\n",
       "      <td>None</td>\n",
       "      <td>0</td>\n",
       "      <td>[]</td>\n",
       "      <td>NaN</td>\n",
       "    </tr>\n",
       "  </tbody>\n",
       "</table>\n",
       "<p>2 rows × 36 columns</p>\n",
       "</div>"
      ],
      "text/plain": [
       "  all_awardings associated_award      author author_flair_background_color  \\\n",
       "0            []             None   Cygnoidex                          None   \n",
       "1            []             None  HariNapkin                       #b20e22   \n",
       "\n",
       "  author_flair_css_class author_flair_richtext  \\\n",
       "0                   None                    []   \n",
       "1            Engineering                    []   \n",
       "\n",
       "               author_flair_template_id       author_flair_text  \\\n",
       "0                                  None                    None   \n",
       "1  7be2b592-1b46-11e7-a702-0e84ae326624  Electrical Engineering   \n",
       "\n",
       "  author_flair_text_color author_flair_type  ... retrieved_on score  \\\n",
       "0                    None              text  ...   1608434367     1   \n",
       "1                   light              text  ...   1608434212     9   \n",
       "\n",
       "  send_replies stickied subreddit subreddit_id top_awarded_type  \\\n",
       "0         True    False       UBC     t5_2qy2j             None   \n",
       "1         True    False       UBC     t5_2qy2j             None   \n",
       "\n",
       "   total_awards_received treatment_tags distinguished  \n",
       "0                      0             []           NaN  \n",
       "1                      0             []           NaN  \n",
       "\n",
       "[2 rows x 36 columns]"
      ]
     },
     "execution_count": 7,
     "metadata": {},
     "output_type": "execute_result"
    }
   ],
   "source": [
    "comments_df = pd.DataFrame(comments)\n",
    "# preview the comments data\n",
    "comments_df.head(2)"
   ]
  },
  {
   "cell_type": "code",
   "execution_count": 8,
   "metadata": {},
   "outputs": [
    {
     "name": "stdout",
     "output_type": "stream",
     "text": [
      "CPSC 110 Final\n",
      "cpsc 110 meme gregor pls notice me\n",
      "cpsc 110 students reading through the MT2 @htdd\n",
      "Friend tested positive for COVID-19 going in for CPSC 110 exam\n",
      "CPSC 110 Final\n"
     ]
    }
   ],
   "source": [
    "all = r.subreddit(\"UBC\")\n",
    "for i in all.search(\"CPSC 110\", limit=5):\n",
    "    print (i.title)\n"
   ]
  }
 ],
 "metadata": {
  "interpreter": {
   "hash": "aee8b7b246df8f9039afb4144a1f6fd8d2ca17a180786b69acc140d282b71a49"
  },
  "kernelspec": {
   "display_name": "Python 3.10.4 64-bit",
   "language": "python",
   "name": "python3"
  },
  "language_info": {
   "codemirror_mode": {
    "name": "ipython",
    "version": 3
   },
   "file_extension": ".py",
   "mimetype": "text/x-python",
   "name": "python",
   "nbconvert_exporter": "python",
   "pygments_lexer": "ipython3",
   "version": "3.10.4"
  },
  "orig_nbformat": 4
 },
 "nbformat": 4,
 "nbformat_minor": 2
}
